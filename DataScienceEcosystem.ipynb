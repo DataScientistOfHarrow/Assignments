{
 "cells": [
  {
   "cell_type": "markdown",
   "id": "fdc335fb-d153-498e-b126-30deccc47c67",
   "metadata": {
    "tags": []
   },
   "source": [
    "# Data Science Tools and Ecosystem"
   ]
  },
  {
   "cell_type": "markdown",
   "id": "01f28d3e-08cb-427d-b181-ff8d37a5d196",
   "metadata": {},
   "source": [
    "In this notebook, Data Science Tools and Ecosystem are summarized.\n"
   ]
  },
  {
   "cell_type": "markdown",
   "id": "074e4108-2cc1-4af2-b432-72662e0100a5",
   "metadata": {},
   "source": [
    "## Author\n",
    "Ahmad J Zaigham"
   ]
  },
  {
   "cell_type": "markdown",
   "id": "35195667-a935-4252-84ac-f641d0b6be2c",
   "metadata": {},
   "source": [
    "# Objectives:\n",
    "\n",
    "* Introduce some of the programming languages used in Data Science\n",
    "* Introduce some of the programming language libraries used in Data Science\n",
    "* Introduce some of the Open source Data Science tools\n"
   ]
  },
  {
   "cell_type": "markdown",
   "id": "8e053078-ef25-4f5e-921f-021a8d812fc3",
   "metadata": {},
   "source": [
    "Popular languages used by Data Science are:\n",
    "\n",
    "1. Python\n",
    "2. R\n",
    "3. Java Script\n",
    "4. Scala\n",
    "5. Ruby"
   ]
  },
  {
   "cell_type": "markdown",
   "id": "4d01c0bb-d2fb-46ce-9530-ac03ebbc20be",
   "metadata": {},
   "source": [
    "Commonly used Data Science libraries used by Data Science:\n",
    "\n",
    "1. Pandas\n",
    "2. Tensor Flow\n",
    "3. NumPy\n",
    "4. SciPy\n",
    "5. Matplotlib\n",
    "6. Keras\n",
    "7. PyTorch\n",
    "8. SciKit-Learn\n",
    "9. Dplyr\n",
    "10.BioConductor\n",
    "11.Shiny\n",
    "12.Lubridate\n",
    "13.Knitr\n",
    "14.Mlr\n",
    "15.Quanteda.dictionaries"
   ]
  },
  {
   "cell_type": "markdown",
   "id": "cf03baaa-3ed5-45fa-b8e4-22c017443022",
   "metadata": {},
   "source": [
    "Data Science Tools\n",
    "\n",
    "1. Zeppelin Notebook\n",
    "2. Jupyter Notebook\n",
    "3. R Studio"
   ]
  },
  {
   "cell_type": "markdown",
   "id": "778c862c-ef63-4b7e-b5b3-5b36b3e9a318",
   "metadata": {},
   "source": [
    "Below are a few examples of evaluating arithmetic expressions in Python\n",
    "\n",
    "1. a+b-5\n",
    "2. a+b+c+255\n",
    "3. a * b * C * 300\n",
    "4. a/b + c*5"
   ]
  },
  {
   "cell_type": "code",
   "execution_count": 9,
   "id": "f9a3f598-4ece-4481-9944-a9c6e4c785ac",
   "metadata": {},
   "outputs": [
    {
     "name": "stdout",
     "output_type": "stream",
     "text": [
      "This a simple arithmetic expression to mutiply then add integers\n"
     ]
    }
   ],
   "source": [
    "\n",
    "print(\"This a simple arithmetic expression to mutiply then add integers\")\n"
   ]
  },
  {
   "cell_type": "code",
   "execution_count": 20,
   "id": "a337dca3-69c4-4478-9590-5ce60373044e",
   "metadata": {},
   "outputs": [
    {
     "name": "stdout",
     "output_type": "stream",
     "text": [
      "17\n"
     ]
    }
   ],
   "source": [
    "print((3*4)+5)"
   ]
  },
  {
   "cell_type": "markdown",
   "id": "b91afd9f-8caf-451c-97b8-aeb5dd3ed3a0",
   "metadata": {},
   "source": [
    "This will convert 200 minutes to hours by dividing by 60"
   ]
  },
  {
   "cell_type": "code",
   "execution_count": 21,
   "id": "02ab255e-4fca-4e1a-8bdb-d518f088b6bc",
   "metadata": {},
   "outputs": [
    {
     "name": "stdout",
     "output_type": "stream",
     "text": [
      "3.3333333333333335\n"
     ]
    }
   ],
   "source": [
    "print(200/60)"
   ]
  },
  {
   "cell_type": "code",
   "execution_count": null,
   "id": "09a673ff-313d-4668-9faa-296e57ad2836",
   "metadata": {},
   "outputs": [],
   "source": []
  }
 ],
 "metadata": {
  "kernelspec": {
   "display_name": "Python",
   "language": "python",
   "name": "conda-env-python-py"
  },
  "language_info": {
   "codemirror_mode": {
    "name": "ipython",
    "version": 3
   },
   "file_extension": ".py",
   "mimetype": "text/x-python",
   "name": "python",
   "nbconvert_exporter": "python",
   "pygments_lexer": "ipython3",
   "version": "3.7.12"
  }
 },
 "nbformat": 4,
 "nbformat_minor": 5
}
